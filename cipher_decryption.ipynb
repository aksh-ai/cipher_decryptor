{
  "nbformat": 4,
  "nbformat_minor": 0,
  "metadata": {
    "colab": {
      "name": "cipher_decryption.ipynb",
      "provenance": [],
      "collapsed_sections": []
    },
    "kernelspec": {
      "name": "python3",
      "display_name": "Python 3"
    }
  },
  "cells": [
    {
      "cell_type": "markdown",
      "metadata": {
        "id": "2R4qYM27WkAC",
        "colab_type": "text"
      },
      "source": [
        "# Cipher Decryption\n",
        "\n",
        "A substitution cipher decryption algorithm using Natural Language Processing and Genetic Algorithm."
      ]
    },
    {
      "cell_type": "markdown",
      "metadata": {
        "id": "WMMyJ0D8W1vT",
        "colab_type": "text"
      },
      "source": [
        "## Necessary Imports"
      ]
    },
    {
      "cell_type": "code",
      "metadata": {
        "id": "_RXSLLakrN_U",
        "colab_type": "code",
        "colab": {}
      },
      "source": [
        "import re\n",
        "import string\n",
        "import requests\n",
        "import textwrap\n",
        "import random\n",
        "import numpy as np\n",
        "import matplotlib.pyplot as plt\n",
        "%matplotlib inline "
      ],
      "execution_count": 0,
      "outputs": []
    },
    {
      "cell_type": "markdown",
      "metadata": {
        "id": "cznAmIrYW5U8",
        "colab_type": "text"
      },
      "source": [
        "## Substitution Cipher"
      ]
    },
    {
      "cell_type": "code",
      "metadata": {
        "id": "LaI5YVn7rkHf",
        "colab_type": "code",
        "colab": {}
      },
      "source": [
        "class SubstitutionCipher:\n",
        "  def __init__(self):\n",
        "    # attributes  \n",
        "    self.mapping_dict = {}\n",
        "    self.alphabet_set_1 = list(string.ascii_lowercase)\n",
        "    self.alphabet_set_2 = list(string.ascii_lowercase)\n",
        "\n",
        "  def __call__(self):\n",
        "    # shuffle unigrams in second alphabet set   \n",
        "    random.shuffle(self.alphabet_set_2)\n",
        "\n",
        "    # create substitution mapping dictionary\n",
        "    for key, value in zip(self.alphabet_set_1, self.alphabet_set_2):\n",
        "      self.mapping_dict[key] = value \n",
        "\n",
        "    return self.mapping_dict  "
      ],
      "execution_count": 0,
      "outputs": []
    },
    {
      "cell_type": "markdown",
      "metadata": {
        "id": "usqMjwTLW8l9",
        "colab_type": "text"
      },
      "source": [
        "## Language Model"
      ]
    },
    {
      "cell_type": "code",
      "metadata": {
        "id": "aiQHG8fMtF5Q",
        "colab_type": "code",
        "colab": {}
      },
      "source": [
        "class LanguageModel:\n",
        "  def __init__(self):\n",
        "    # create a markov matrix (26 alphabets)  \n",
        "    self.markov_matrix = np.ones((26, 26)) \n",
        "    # create pi vector with 26 zeros (26 alphabets) which would be our initial state distribution\n",
        "    self.pi = np.zeros(26)\n",
        "\n",
        "  # update markov matrix\n",
        "  def updateTransition(self, bigram_char_1, bigram_char_2):\n",
        "    i = ord(bigram_char_1) - 97\n",
        "    j = ord(bigram_char_2) - 97  \n",
        "    self.markov_matrix[i, j] += 1\n",
        "\n",
        "  # update state distribution\n",
        "  def updatePi(self, unigram_char):\n",
        "    i = ord(unigram_char) - 97  \n",
        "    self.pi[i] += 1\n",
        "\n",
        "  # get log probability of a token\n",
        "  def getWordProbability(self, word):\n",
        "    i = ord(word[0]) - 97\n",
        "    log_probability = np.log(self.pi[i])\n",
        "\n",
        "    for char in word[1:]:\n",
        "      j = ord(char) - 97\n",
        "      log_probability += np.log(self.markov_matrix[i, j])\n",
        "      i = j\n",
        "\n",
        "    return log_probability \n",
        "\n",
        "  # get log probability of a sequence of tokens\n",
        "  def getSequenceProbability(self, sequence):\n",
        "    if type(sequence) == str:\n",
        "      words = sequence.split()\n",
        "\n",
        "    log_probability = 0\n",
        "\n",
        "    for word in words:\n",
        "      log_probability += self.getWordProbability(word)\n",
        "\n",
        "    return log_probability     "
      ],
      "execution_count": 0,
      "outputs": []
    },
    {
      "cell_type": "markdown",
      "metadata": {
        "id": "xA9XDRfyW-6T",
        "colab_type": "text"
      },
      "source": [
        "## Cipher "
      ]
    },
    {
      "cell_type": "code",
      "metadata": {
        "id": "o2-Vo_VavqiG",
        "colab_type": "code",
        "colab": {}
      },
      "source": [
        "class Cipher:\n",
        "  def __init__(self):\n",
        "    # attributes  \n",
        "    self.regex = re.compile('[^a-zA-Z]')\n",
        "    self.language_model = LanguageModel()\n",
        "    self.substitution_cipher = SubstitutionCipher()\n",
        "    self.true_mapping = self.substitution_cipher()\n",
        "    self.dna_pool = []\n",
        "    self.scores = None\n",
        "    self.best_dna = None\n",
        "    self.best_map = None\n",
        "    self.best_score = float('-inf')\n",
        "\n",
        "    # create initial dna pool randomly for our genetic algorithm\n",
        "    for _ in range(20):\n",
        "      dna = list(string.ascii_lowercase)\n",
        "      random.shuffle(dna)\n",
        "      self.dna_pool.append(dna)\n",
        "\n",
        "    # create markov model based on an English text dataset\n",
        "    # read line by line\n",
        "    for line in open('scraped_text.txt', encoding='utf8'):\n",
        "      # read a line  \n",
        "      line = line.rstrip()  \n",
        "\n",
        "      if line:\n",
        "        # replace all non-alphabetic characters with space  \n",
        "        line = self.regex.sub(' ', line)\n",
        "        \n",
        "        # split lines into words => tokens\n",
        "        tokens = line.lower().split() # convert to lowercase and split\n",
        "\n",
        "        # process token by token\n",
        "        for token in tokens:\n",
        "          # first letter of the token/word = a unigram  \n",
        "          unigram = token[0]\n",
        "          # update state distribution with the unigram\n",
        "          self.language_model.updatePi(unigram)\n",
        "\n",
        "          # update markov matrix by creating bigrams with first letter unigram and following letters in that token  \n",
        "          for letter in token[1:]:\n",
        "            self.language_model.updateTransition(unigram, letter)\n",
        "            unigram = letter\n",
        "\n",
        "    # normalize state distribution and markov matrix\n",
        "    self.language_model.pi /= self.language_model.pi.sum()\n",
        "    self.language_model.markov_matrix /= self.language_model.markov_matrix.sum(axis=1, keepdims=True)\n",
        "\n",
        "  #  encrypt a given message using Substitution Cipher's mapping dictionary\n",
        "  def encrypt(self, message):\n",
        "    # convert text to lowercase  \n",
        "    message = message.lower()\n",
        "\n",
        "    # replace non-alphabetic characters with space\n",
        "    message = self.regex.sub(' ', message)\n",
        "\n",
        "    # empty buffer for storing encypted message letter by letter\n",
        "    encrypted_message = []\n",
        "\n",
        "    # substitute each unigram in a token of tokens present in the message with a value from mapping dictionary\n",
        "    for char in message:\n",
        "      encoded_char = char\n",
        "      \n",
        "      if char in self.true_mapping:\n",
        "        encoded_char = self.true_mapping[char]\n",
        "      \n",
        "      encrypted_message.append(encoded_char)\n",
        "\n",
        "    return ''.join(encrypted_message)\n",
        "\n",
        "  # decrypt given message using specified dictionary\n",
        "  def decrypt(self, message, word_mapping):\n",
        "    # empty buffer for storing decrypted message\n",
        "    decrypted_message = []\n",
        "    \n",
        "    # decode by mapping unigrams with values present in the given mapping dictionary\n",
        "    for char in message:\n",
        "      decoded_char = char\n",
        "      \n",
        "      if char in word_mapping:\n",
        "        decoded_char = word_mapping[char]\n",
        "      \n",
        "      decrypted_message.append(decoded_char)\n",
        "\n",
        "    return ''.join(decrypted_message)\n",
        "\n",
        "  # perform an evolution by creating n childrens per parent\n",
        "  def evolve_offspring(self, dna_pool, num_children):\n",
        "    offspring = []\n",
        "\n",
        "    # perform swapping of unigrams in dna to get updated dna\n",
        "    for dna in dna_pool:\n",
        "      for _ in range(num_children):\n",
        "        clone = dna.copy()\n",
        "        j = np.random.randint(len(clone))\n",
        "        k = np.random.randint(len(clone))\n",
        "\n",
        "        temp = clone[j]\n",
        "        clone[j] = clone[k]\n",
        "        clone[k] = temp\n",
        "\n",
        "        offspring.append(clone)\n",
        "\n",
        "    # return updated dna pool \n",
        "    return offspring + dna_pool     \n",
        "\n",
        "  # train the genetic algorithm for specified epochs to decrypt the message by finding best log likelihood\n",
        "  def fit(self, message, epochs, metrics=False):    \n",
        "    self.scores = np.zeros(epochs)\n",
        "\n",
        "    for epoch in range(epochs):\n",
        "      if epoch>0:\n",
        "        # get updated dna pool by performing an evolution  \n",
        "        self.dna_pool = self.evolve_offspring(self.dna_pool, 3)\n",
        "\n",
        "      # calculate log likelihood for each dna present in dna pool\n",
        "      dna_score = {}\n",
        "\n",
        "      for dna in self.dna_pool:\n",
        "        # create or update the decryption mapping dictionary with unigrams of a dna  \n",
        "        current_mapping = {}\n",
        "\n",
        "        for key, value in zip(self.substitution_cipher.alphabet_set_1, dna):\n",
        "          current_mapping[key] = value\n",
        "\n",
        "        # decrypt the given message with newly populated decyrption mapping dictionary\n",
        "        decoded_message = self.decrypt(message, current_mapping)\n",
        "\n",
        "        # get log likelihood for latest decrypted message\n",
        "        score = self.language_model.getSequenceProbability(decoded_message)\n",
        "\n",
        "        # update dna score of each dna with its log likelihood\n",
        "        dna_score[''.join(dna)] = score\n",
        "\n",
        "        # replace best dna, decryption mapping dictionary and log likelihood score if new score is greater than old score\n",
        "        if score > self.best_score:\n",
        "          self.best_dna = dna\n",
        "          self.best_map = current_mapping\n",
        "          self.best_score = score\n",
        "\n",
        "      # update overall log likelihood per dna pool process with the mean of dna scores\n",
        "      self.scores[epoch] = np.mean(list(dna_score.values()))\n",
        "\n",
        "      # sort the dna's based on its score\n",
        "      sorted_dna = sorted(dna_score.items(), key = lambda x: x[1], reverse=True)\n",
        "\n",
        "      # update dna pool with only the first five fittest dna's\n",
        "      self.dna_pool = [list(key) for key, value in sorted_dna[:5]]\n",
        "\n",
        "      # display training metrics\n",
        "      if (epoch % 100 == 0 or epoch==0 or epoch==999) and metrics==True:\n",
        "        print(\"Epoch {}\".format(epoch+1))     \n",
        "        print(\"Log Likelihood : {:.4f}  |  Optimal Log Likelihood : {:.4f}\".format(self.scores[epoch], self.best_score))\n",
        "\n",
        "    # decrypt the given message with the best decryption mapping dictionary after genetic algorithm gets completely trained\n",
        "    decrypted_msg = self.decrypt(message, self.best_map)\n",
        "    \n",
        "    # display decrypted message's best log likelihood\n",
        "    if metrics==True:\n",
        "      print(\"\\nLog Likelihood of Decrypted Message: {:.4f}\".format(self.language_model.getSequenceProbability(decrypted_msg)))\n",
        "\n",
        "    # display decrypted message\n",
        "    print(\"\\nDecrypted Message\\n\\n{}\\n\".format(textwrap.fill(decrypted_msg)))"
      ],
      "execution_count": 0,
      "outputs": []
    },
    {
      "cell_type": "markdown",
      "metadata": {
        "id": "85eayljaXIkn",
        "colab_type": "text"
      },
      "source": [
        "## Train for decryption\n",
        "\n",
        "Instantiate the Cipher class"
      ]
    },
    {
      "cell_type": "code",
      "metadata": {
        "id": "TtIMepuuFuvL",
        "colab_type": "code",
        "colab": {}
      },
      "source": [
        "cipher = Cipher()"
      ],
      "execution_count": 0,
      "outputs": []
    },
    {
      "cell_type": "markdown",
      "metadata": {
        "id": "_s6T6ABTXPbk",
        "colab_type": "text"
      },
      "source": [
        "Define an input message"
      ]
    },
    {
      "cell_type": "code",
      "metadata": {
        "id": "uA-B8xPlF2Zl",
        "colab_type": "code",
        "outputId": "78af57db-e04e-43d6-b642-2a5f46472aa2",
        "colab": {
          "base_uri": "https://localhost:8080/",
          "height": 204
        }
      },
      "source": [
        "my_message = '''I then lounged down the street and found,\n",
        "as I expected, that there was a mews in a lane which runs down\n",
        "by one wall of the garden. I lent the ostlers a hand in rubbing\n",
        "down their horses, and received in exchange twopence, a glass of\n",
        "half-and-half, two fills of shag tobacco, and as much information\n",
        "as I could desire about Miss Adler, to say nothing of half a dozen\n",
        "other people in the neighbourhood in whom I was not in the least\n",
        "interested, but whose biographies I was compelled to listen to.\n",
        "'''\n",
        "\n",
        "print(\"Original Message\\n\\n{}\".format(my_message))"
      ],
      "execution_count": 6,
      "outputs": [
        {
          "output_type": "stream",
          "text": [
            "Original Message\n",
            "\n",
            "I then lounged down the street and found,\n",
            "as I expected, that there was a mews in a lane which runs down\n",
            "by one wall of the garden. I lent the ostlers a hand in rubbing\n",
            "down their horses, and received in exchange twopence, a glass of\n",
            "half-and-half, two fills of shag tobacco, and as much information\n",
            "as I could desire about Miss Adler, to say nothing of half a dozen\n",
            "other people in the neighbourhood in whom I was not in the least\n",
            "interested, but whose biographies I was compelled to listen to.\n",
            "\n"
          ],
          "name": "stdout"
        }
      ]
    },
    {
      "cell_type": "markdown",
      "metadata": {
        "id": "pGi6uN9pXiox",
        "colab_type": "text"
      },
      "source": [
        "Encrypt the input message"
      ]
    },
    {
      "cell_type": "code",
      "metadata": {
        "id": "K0jZs3tRG0-Y",
        "colab_type": "code",
        "outputId": "fac753f8-235c-48f8-950e-75e7c5fd0024",
        "colab": {
          "base_uri": "https://localhost:8080/",
          "height": 187
        }
      },
      "source": [
        "encrypted_message = cipher.encrypt(my_message)\n",
        "print(\"Encrypted Message\\n\\n{}\".format(textwrap.fill(encrypted_message)))"
      ],
      "execution_count": 7,
      "outputs": [
        {
          "output_type": "stream",
          "text": [
            "Encrypted Message\n",
            "\n",
            "x yesh tgrhlsm mgwh yes cyassy vhm ogrhm  vc x sfiskysm  yevy yesas\n",
            "wvc v jswc xh v tvhs wexke arhc mgwh bn ghs wvtt go yes lvamsh  x tshy\n",
            "yes gcytsac v evhm xh arbbxhl mgwh yesxa egacsc  vhm asksxdsm xh\n",
            "sfkevhls ywgishks  v ltvcc go evto vhm evto  ywg oxttc go cevl ygbvkkg\n",
            "vhm vc jrke xhogajvyxgh vc x kgrtm mscxas vbgry jxcc vmtsa  yg cvn\n",
            "hgyexhl go evto v mgpsh gyesa isgits xh yes hsxlebgraeggm xh wegj x\n",
            "wvc hgy xh yes tsvcy xhysascysm  bry wegcs bxglaviexsc x wvc kgjisttsm\n",
            "yg txcysh yg\n"
          ],
          "name": "stdout"
        }
      ]
    },
    {
      "cell_type": "markdown",
      "metadata": {
        "id": "94VKUT-xXoLc",
        "colab_type": "text"
      },
      "source": [
        "Train the Genetic Algorithm for 1000 iterations to achieve maximum log likelihood for best decryption by finding best mapping unigrams for the encrypted message"
      ]
    },
    {
      "cell_type": "code",
      "metadata": {
        "id": "XuN2l8U2Fzgz",
        "colab_type": "code",
        "outputId": "4674545b-604c-4c49-d5c0-dde5b991c407",
        "colab": {
          "base_uri": "https://localhost:8080/",
          "height": 629
        }
      },
      "source": [
        "cipher.fit(encrypted_message, epochs=1000, metrics=True)"
      ],
      "execution_count": 8,
      "outputs": [
        {
          "output_type": "stream",
          "text": [
            "Epoch 1\n",
            "Log Likelihood : -2044.1600  |  Optimal Log Likelihood : -1709.4830\n",
            "Epoch 101\n",
            "Log Likelihood : -1082.6971  |  Optimal Log Likelihood : -1014.4706\n",
            "Epoch 201\n",
            "Log Likelihood : -1058.3945  |  Optimal Log Likelihood : -933.0312\n",
            "Epoch 301\n",
            "Log Likelihood : -1034.7419  |  Optimal Log Likelihood : -929.5903\n",
            "Epoch 401\n",
            "Log Likelihood : -1048.4437  |  Optimal Log Likelihood : -929.5903\n",
            "Epoch 501\n",
            "Log Likelihood : -1001.7790  |  Optimal Log Likelihood : -929.5903\n",
            "Epoch 601\n",
            "Log Likelihood : -1019.0806  |  Optimal Log Likelihood : -929.5903\n",
            "Epoch 701\n",
            "Log Likelihood : -1005.0562  |  Optimal Log Likelihood : -929.5903\n",
            "Epoch 801\n",
            "Log Likelihood : -1019.7447  |  Optimal Log Likelihood : -929.5903\n",
            "Epoch 901\n",
            "Log Likelihood : -1017.9152  |  Optimal Log Likelihood : -929.5903\n",
            "Epoch 1000\n",
            "Log Likelihood : -1015.3311  |  Optimal Log Likelihood : -929.5903\n",
            "\n",
            "Log Likelihood of Decrypted Message: -929.5903\n",
            "\n",
            "Decrypted Message\n",
            "\n",
            "i then lounged down the street and found  as i expected  that there\n",
            "was a mews in a lane which runs down by one wall of the garden  i lent\n",
            "the ostlers a hand in rubbing down their horses  and received in\n",
            "exchange twopence  a glass of half and half  two fills of shag tobacco\n",
            "and as much information as i could desire about miss adler  to say\n",
            "nothing of half a doken other people in the neighbourhood in whom i\n",
            "was not in the least interested  but whose biographies i was compelled\n",
            "to listen to\n",
            "\n"
          ],
          "name": "stdout"
        }
      ]
    },
    {
      "cell_type": "markdown",
      "metadata": {
        "id": "3TawtZZSYeAb",
        "colab_type": "text"
      },
      "source": [
        "## Evaluation\n",
        "\n",
        "### Log Likelihood score graph\n",
        "\n",
        "We can clearly see that we've achieved maximum likelihood (Gradient Ascent)"
      ]
    },
    {
      "cell_type": "code",
      "metadata": {
        "id": "WXLGsZLPFkdH",
        "colab_type": "code",
        "outputId": "cbaed477-039e-40fa-e471-76cd0c9025f9",
        "colab": {
          "base_uri": "https://localhost:8080/",
          "height": 265
        }
      },
      "source": [
        "plt.plot(cipher.scores)\n",
        "plt.show() "
      ],
      "execution_count": 9,
      "outputs": [
        {
          "output_type": "display_data",
          "data": {
            "image/png": "[encoded data removed]",
            "text/plain": [
              "<Figure size 432x288 with 1 Axes>"
            ]
          },
          "metadata": {
            "tags": []
          }
        }
      ]
    },
    {
      "cell_type": "markdown",
      "metadata": {
        "id": "0CfgTDIjYuhl",
        "colab_type": "text"
      },
      "source": [
        "### False mappings\n",
        "\n",
        "Only 3 unigrams have been falsely predicted during decryption"
      ]
    },
    {
      "cell_type": "code",
      "metadata": {
        "id": "BkCMhogJRZd5",
        "colab_type": "code",
        "outputId": "9ed483e7-7915-4cd1-82cd-efd40ce9235e",
        "colab": {
          "base_uri": "https://localhost:8080/",
          "height": 68
        }
      },
      "source": [
        "for true, value in cipher.true_mapping.items():\n",
        "  pred = cipher.best_map[value]\n",
        "  if true != pred:\n",
        "    print(\"Original: {}, Predicted: {}\".format(true, pred))"
      ],
      "execution_count": 10,
      "outputs": [
        {
          "output_type": "stream",
          "text": [
            "Original: j, Predicted: z\n",
            "Original: k, Predicted: j\n",
            "Original: z, Predicted: k\n"
          ],
          "name": "stdout"
        }
      ]
    }
  ]
}